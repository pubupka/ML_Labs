{
 "cells": [
  {
   "cell_type": "markdown",
   "id": "56d2dd61",
   "metadata": {},
   "source": [
    "# **Гипотезы**\n",
    "1. Чем больше рейтинг imdb, тем больше доход.\n",
    "<br>\n",
    "2. Большая часть фильмов на английском была снята в США.\n",
    "<br>\n",
    "3. Чем больше длительность, тем больший бюджет потребовался."
   ]
  },
  {
   "cell_type": "code",
   "execution_count": 67,
   "id": "0a6aea9e",
   "metadata": {},
   "outputs": [
    {
     "data": {
      "text/html": [
       "<div>\n",
       "<style scoped>\n",
       "    .dataframe tbody tr th:only-of-type {\n",
       "        vertical-align: middle;\n",
       "    }\n",
       "\n",
       "    .dataframe tbody tr th {\n",
       "        vertical-align: top;\n",
       "    }\n",
       "\n",
       "    .dataframe thead th {\n",
       "        text-align: right;\n",
       "    }\n",
       "</style>\n",
       "<table border=\"1\" class=\"dataframe\">\n",
       "  <thead>\n",
       "    <tr style=\"text-align: right;\">\n",
       "      <th></th>\n",
       "      <th>color</th>\n",
       "      <th>Director_Name</th>\n",
       "      <th>num_Critic_for_reviews</th>\n",
       "      <th>duration</th>\n",
       "      <th>director_Facebook_likes</th>\n",
       "      <th>actor_3_Facebook_likes</th>\n",
       "      <th>actor_2_name</th>\n",
       "      <th>Actor_1_Facebook_likes</th>\n",
       "      <th>gross</th>\n",
       "      <th>genres</th>\n",
       "      <th>...</th>\n",
       "      <th>num_user_for_reviews</th>\n",
       "      <th>language</th>\n",
       "      <th>country</th>\n",
       "      <th>content_rating</th>\n",
       "      <th>budget</th>\n",
       "      <th>title_year</th>\n",
       "      <th>actor_2_facebook_likes</th>\n",
       "      <th>imdb_score</th>\n",
       "      <th>aspect_ratio</th>\n",
       "      <th>movie_facebook_likes;</th>\n",
       "    </tr>\n",
       "  </thead>\n",
       "  <tbody>\n",
       "    <tr>\n",
       "      <th>0</th>\n",
       "      <td>Color</td>\n",
       "      <td>James Cameron</td>\n",
       "      <td>723.0</td>\n",
       "      <td>178.0</td>\n",
       "      <td>0.0</td>\n",
       "      <td>855.0</td>\n",
       "      <td>Joel David Moore</td>\n",
       "      <td>1000.0</td>\n",
       "      <td>760505847.0</td>\n",
       "      <td>Action|Adventure|Fantasy|Sci-Fi</td>\n",
       "      <td>...</td>\n",
       "      <td>3054.0</td>\n",
       "      <td>English</td>\n",
       "      <td>USA</td>\n",
       "      <td>PG-13</td>\n",
       "      <td>237000000.0</td>\n",
       "      <td>2009.0</td>\n",
       "      <td>936.0</td>\n",
       "      <td>7.9</td>\n",
       "      <td>1.78</td>\n",
       "      <td>33000;</td>\n",
       "    </tr>\n",
       "    <tr>\n",
       "      <th>1</th>\n",
       "      <td>Colour</td>\n",
       "      <td>Gore Verbinski</td>\n",
       "      <td>302.0</td>\n",
       "      <td>169.0</td>\n",
       "      <td>563.0</td>\n",
       "      <td>1000.0</td>\n",
       "      <td>Orlando Bloom</td>\n",
       "      <td>40000.0</td>\n",
       "      <td>309404152.0</td>\n",
       "      <td>Action|Adventure|Fantasy</td>\n",
       "      <td>...</td>\n",
       "      <td>1238.0</td>\n",
       "      <td>English</td>\n",
       "      <td>USA</td>\n",
       "      <td>PG-13</td>\n",
       "      <td>300000000.0</td>\n",
       "      <td>2007.0</td>\n",
       "      <td>5000.0</td>\n",
       "      <td>7.1</td>\n",
       "      <td>2.35</td>\n",
       "      <td>0;</td>\n",
       "    </tr>\n",
       "    <tr>\n",
       "      <th>2</th>\n",
       "      <td>Colour</td>\n",
       "      <td>Sam Mendes</td>\n",
       "      <td>602.0</td>\n",
       "      <td>148.0</td>\n",
       "      <td>0.0</td>\n",
       "      <td>161.0</td>\n",
       "      <td>Rory Kinnear</td>\n",
       "      <td>11000.0</td>\n",
       "      <td>200074175.0</td>\n",
       "      <td>Action|Adventure|Thriller</td>\n",
       "      <td>...</td>\n",
       "      <td>994.0</td>\n",
       "      <td>English</td>\n",
       "      <td>UK</td>\n",
       "      <td>PG-13</td>\n",
       "      <td>245000000.0</td>\n",
       "      <td>2015.0</td>\n",
       "      <td>393.0</td>\n",
       "      <td>6.8</td>\n",
       "      <td>2.35</td>\n",
       "      <td>85000;</td>\n",
       "    </tr>\n",
       "    <tr>\n",
       "      <th>3</th>\n",
       "      <td>Color</td>\n",
       "      <td>Christopher Nolan</td>\n",
       "      <td>813.0</td>\n",
       "      <td>164.0</td>\n",
       "      <td>22000.0</td>\n",
       "      <td>23000.0</td>\n",
       "      <td>Christian Bale</td>\n",
       "      <td>27000.0</td>\n",
       "      <td>448130642.0</td>\n",
       "      <td>Action|Thriller</td>\n",
       "      <td>...</td>\n",
       "      <td>2701.0</td>\n",
       "      <td>English</td>\n",
       "      <td>USA</td>\n",
       "      <td>PG-13</td>\n",
       "      <td>250000000.0</td>\n",
       "      <td>2012.0</td>\n",
       "      <td>23000.0</td>\n",
       "      <td>8.5</td>\n",
       "      <td>2.35</td>\n",
       "      <td>164000;</td>\n",
       "    </tr>\n",
       "    <tr>\n",
       "      <th>4</th>\n",
       "      <td>NaN</td>\n",
       "      <td>Doug Walker</td>\n",
       "      <td>NaN</td>\n",
       "      <td>NaN</td>\n",
       "      <td>131.0</td>\n",
       "      <td>NaN</td>\n",
       "      <td>Rob Walker</td>\n",
       "      <td>131.0</td>\n",
       "      <td>NaN</td>\n",
       "      <td>Documentary</td>\n",
       "      <td>...</td>\n",
       "      <td>NaN</td>\n",
       "      <td>NaN</td>\n",
       "      <td>NaN</td>\n",
       "      <td>NaN</td>\n",
       "      <td>NaN</td>\n",
       "      <td>NaN</td>\n",
       "      <td>12.0</td>\n",
       "      <td>7.1</td>\n",
       "      <td>NaN</td>\n",
       "      <td>0;</td>\n",
       "    </tr>\n",
       "    <tr>\n",
       "      <th>5</th>\n",
       "      <td>Colour</td>\n",
       "      <td>Andrew Stanton</td>\n",
       "      <td>462.0</td>\n",
       "      <td>132.0</td>\n",
       "      <td>475.0</td>\n",
       "      <td>530.0</td>\n",
       "      <td>Samantha Morton</td>\n",
       "      <td>640.0</td>\n",
       "      <td>73058679.0</td>\n",
       "      <td>Action|Adventure|Sci-Fi</td>\n",
       "      <td>...</td>\n",
       "      <td>738.0</td>\n",
       "      <td>English</td>\n",
       "      <td>USA</td>\n",
       "      <td>PG-13</td>\n",
       "      <td>263700000.0</td>\n",
       "      <td>2012.0</td>\n",
       "      <td>632.0</td>\n",
       "      <td>6.6</td>\n",
       "      <td>2.35</td>\n",
       "      <td>24000;</td>\n",
       "    </tr>\n",
       "  </tbody>\n",
       "</table>\n",
       "<p>6 rows × 28 columns</p>\n",
       "</div>"
      ],
      "text/plain": [
       "    color      Director_Name  num_Critic_for_reviews  duration  \\\n",
       "0   Color      James Cameron                   723.0     178.0   \n",
       "1  Colour     Gore Verbinski                   302.0     169.0   \n",
       "2  Colour         Sam Mendes                   602.0     148.0   \n",
       "3   Color  Christopher Nolan                   813.0     164.0   \n",
       "4     NaN        Doug Walker                     NaN       NaN   \n",
       "5  Colour     Andrew Stanton                   462.0     132.0   \n",
       "\n",
       "   director_Facebook_likes  actor_3_Facebook_likes      actor_2_name  \\\n",
       "0                      0.0                   855.0  Joel David Moore   \n",
       "1                    563.0                  1000.0     Orlando Bloom   \n",
       "2                      0.0                   161.0      Rory Kinnear   \n",
       "3                  22000.0                 23000.0    Christian Bale   \n",
       "4                    131.0                     NaN        Rob Walker   \n",
       "5                    475.0                   530.0   Samantha Morton   \n",
       "\n",
       "   Actor_1_Facebook_likes        gross                           genres  ...  \\\n",
       "0                  1000.0  760505847.0  Action|Adventure|Fantasy|Sci-Fi  ...   \n",
       "1                 40000.0  309404152.0         Action|Adventure|Fantasy  ...   \n",
       "2                 11000.0  200074175.0        Action|Adventure|Thriller  ...   \n",
       "3                 27000.0  448130642.0                  Action|Thriller  ...   \n",
       "4                   131.0          NaN                      Documentary  ...   \n",
       "5                   640.0   73058679.0          Action|Adventure|Sci-Fi  ...   \n",
       "\n",
       "  num_user_for_reviews language  country  content_rating       budget  \\\n",
       "0               3054.0  English      USA           PG-13  237000000.0   \n",
       "1               1238.0  English      USA           PG-13  300000000.0   \n",
       "2                994.0  English       UK           PG-13  245000000.0   \n",
       "3               2701.0  English      USA           PG-13  250000000.0   \n",
       "4                  NaN      NaN      NaN             NaN          NaN   \n",
       "5                738.0  English      USA           PG-13  263700000.0   \n",
       "\n",
       "   title_year actor_2_facebook_likes imdb_score  aspect_ratio  \\\n",
       "0      2009.0                  936.0        7.9          1.78   \n",
       "1      2007.0                 5000.0        7.1          2.35   \n",
       "2      2015.0                  393.0        6.8          2.35   \n",
       "3      2012.0                23000.0        8.5          2.35   \n",
       "4         NaN                   12.0        7.1           NaN   \n",
       "5      2012.0                  632.0        6.6          2.35   \n",
       "\n",
       "  movie_facebook_likes;  \n",
       "0                33000;  \n",
       "1                    0;  \n",
       "2                85000;  \n",
       "3               164000;  \n",
       "4                    0;  \n",
       "5                24000;  \n",
       "\n",
       "[6 rows x 28 columns]"
      ]
     },
     "execution_count": 67,
     "metadata": {},
     "output_type": "execute_result"
    }
   ],
   "source": [
    "import pandas as pd\n",
    "df = pd.read_csv(r\"..\\data\\Lab1\\Dataset1.csv\")\n",
    "df.head(6)\n"
   ]
  },
  {
   "cell_type": "code",
   "execution_count": 68,
   "id": "3f209e66",
   "metadata": {},
   "outputs": [
    {
     "name": "stdout",
     "output_type": "stream",
     "text": [
      "<class 'pandas.core.frame.DataFrame'>\n",
      "RangeIndex: 5043 entries, 0 to 5042\n",
      "Data columns (total 28 columns):\n",
      " #   Column                      Non-Null Count  Dtype  \n",
      "---  ------                      --------------  -----  \n",
      " 0   color                       5025 non-null   object \n",
      " 1   Director_Name               4872 non-null   object \n",
      " 2   num_Critic_for_reviews      4927 non-null   float64\n",
      " 3   duration                    4959 non-null   float64\n",
      " 4   director_Facebook_likes     4872 non-null   float64\n",
      " 5   actor_3_Facebook_likes      4953 non-null   float64\n",
      " 6   actor_2_name                4963 non-null   object \n",
      " 7   Actor_1_Facebook_likes      4968 non-null   float64\n",
      " 8   gross                       4104 non-null   float64\n",
      " 9   genres                      4974 non-null   object \n",
      " 10  actor_1_name                4968 non-null   object \n",
      " 11  movie_Title                 4974 non-null   object \n",
      " 12  num_voted_users             4974 non-null   float64\n",
      " 13   cast_total_facebook_likes  4974 non-null   float64\n",
      " 14  actor_3_name                4953 non-null   object \n",
      " 15  facenumber_in_poster        4961 non-null   float64\n",
      " 16  plot_keywords               4827 non-null   object \n",
      " 17  movie_imdb_link             4974 non-null   object \n",
      " 18  num_user_for_reviews        4956 non-null   float64\n",
      " 19  language                    4961 non-null   object \n",
      " 20  country                     4971 non-null   object \n",
      " 21  content_rating              4677 non-null   object \n",
      " 22  budget                      4494 non-null   float64\n",
      " 23  title_year                  4869 non-null   float64\n",
      " 24  actor_2_facebook_likes      4963 non-null   float64\n",
      " 25  imdb_score                  4974 non-null   float64\n",
      " 26  aspect_ratio                4654 non-null   float64\n",
      " 27  movie_facebook_likes;       4974 non-null   object \n",
      "dtypes: float64(15), object(13)\n",
      "memory usage: 1.1+ MB\n"
     ]
    }
   ],
   "source": [
    "df.info()"
   ]
  },
  {
   "cell_type": "markdown",
   "id": "e4abb57a",
   "metadata": {},
   "source": [
    "Количество значений столбцов разное => есть пустые значения.<br>\n",
    "Есть пробелы в названиях столбцов.<br>\n",
    "Столбцы начинаются с заглавных и строчных букв.<br>"
   ]
  },
  {
   "cell_type": "code",
   "execution_count": 69,
   "id": "8e59af4b",
   "metadata": {},
   "outputs": [
    {
     "data": {
      "text/plain": [
       "Index(['color', 'Director_Name', 'num_Critic_for_reviews', 'duration',\n",
       "       'director_Facebook_likes', 'actor_3_Facebook_likes', 'actor_2_name',\n",
       "       'Actor_1_Facebook_likes', 'gross', 'genres', 'actor_1_name',\n",
       "       'movie_Title', 'num_voted_users', ' cast_total_facebook_likes',\n",
       "       'actor_3_name', 'facenumber_in_poster', 'plot_keywords',\n",
       "       'movie_imdb_link', 'num_user_for_reviews', 'language', 'country',\n",
       "       'content_rating', 'budget', 'title_year', 'actor_2_facebook_likes',\n",
       "       'imdb_score', 'aspect_ratio', 'movie_facebook_likes;'],\n",
       "      dtype='object')"
      ]
     },
     "execution_count": 69,
     "metadata": {},
     "output_type": "execute_result"
    }
   ],
   "source": [
    "df.columns"
   ]
  },
  {
   "cell_type": "code",
   "execution_count": 70,
   "id": "57730128",
   "metadata": {},
   "outputs": [
    {
     "data": {
      "text/plain": [
       "Index(['color', 'director_name', 'num_critic_for_reviews', 'duration',\n",
       "       'director_facebook_likes', 'actor_3_facebook_likes', 'actor_2_name',\n",
       "       'actor_1_facebook_likes', 'gross', 'genres', 'actor_1_name',\n",
       "       'movie_title', 'num_voted_users', 'cast_total_facebook_likes',\n",
       "       'actor_3_name', 'facenumber_in_poster', 'plot_keywords',\n",
       "       'movie_imdb_link', 'num_user_for_reviews', 'language', 'country',\n",
       "       'content_rating', 'budget', 'title_year', 'actor_2_facebook_likes',\n",
       "       'imdb_score', 'aspect_ratio', 'movie_facebook_likes'],\n",
       "      dtype='object')"
      ]
     },
     "execution_count": 70,
     "metadata": {},
     "output_type": "execute_result"
    }
   ],
   "source": [
    "df = df.rename(\n",
    "    columns= {\n",
    "        'Director_Name' : 'director_name',\n",
    "        'num_Critic_for_reviews' : 'num_critic_for_reviews',\n",
    "        'director_Facebook_likes' : 'director_facebook_likes',\n",
    "        'actor_3_Facebook_likes' : 'actor_3_facebook_likes',\n",
    "        'Actor_1_Facebook_likes' : 'actor_1_facebook_likes',\n",
    "        'movie_Title' : 'movie_title',\n",
    "        ' cast_total_facebook_likes' : 'cast_total_facebook_likes',\n",
    "        'movie_facebook_likes;' : 'movie_facebook_likes'\n",
    "    }\n",
    ")\n",
    "df.columns"
   ]
  },
  {
   "cell_type": "code",
   "execution_count": 71,
   "id": "acffab5f",
   "metadata": {},
   "outputs": [
    {
     "data": {
      "text/plain": [
       "color                         18\n",
       "director_name                171\n",
       "num_critic_for_reviews       116\n",
       "duration                      84\n",
       "director_facebook_likes      171\n",
       "actor_3_facebook_likes        90\n",
       "actor_2_name                  80\n",
       "actor_1_facebook_likes        75\n",
       "gross                        939\n",
       "genres                        69\n",
       "actor_1_name                  75\n",
       "movie_title                   69\n",
       "num_voted_users               69\n",
       "cast_total_facebook_likes     69\n",
       "actor_3_name                  90\n",
       "facenumber_in_poster          82\n",
       "plot_keywords                216\n",
       "movie_imdb_link               69\n",
       "num_user_for_reviews          87\n",
       "language                      82\n",
       "country                       72\n",
       "content_rating               366\n",
       "budget                       549\n",
       "title_year                   174\n",
       "actor_2_facebook_likes        80\n",
       "imdb_score                    69\n",
       "aspect_ratio                 389\n",
       "movie_facebook_likes          69\n",
       "dtype: int64"
      ]
     },
     "execution_count": 71,
     "metadata": {},
     "output_type": "execute_result"
    }
   ],
   "source": [
    "# Кол-во незаполненных ячеек в данных \n",
    "df.isna().sum()"
   ]
  },
  {
   "cell_type": "markdown",
   "id": "03114ce9",
   "metadata": {},
   "source": [
    "Для проверки гипотез нам понадобятся приведённые ниже столбцы, на остальные можно не обращать внимания.\n",
    "<br>\n",
    " 1. imdb_score\n",
    " 2. gross\n",
    " 3. language\n",
    " 4. country\n",
    " 5. budget\n",
    " 6. duration\n",
    "<br>\n",
    "\n",
    "Много пропущенных значений в столбцах gross и budget, так как компании не всегда готовы раскрывать финансовую сторону вопроса по каким-либо причинам. Это может значительно повлиять на проверку 1 и 3 гипотез.\n",
    "\n",
    "Заменим все пустые значения на unknown, кроме числовых столбцов, участвующих в исследовании."
   ]
  },
  {
   "cell_type": "code",
   "execution_count": 72,
   "id": "feec0ea1",
   "metadata": {},
   "outputs": [],
   "source": [
    "columns_to_replace = df.columns\n",
    "skip_columns = [\"imdb_score\", \"gross\", \"budget\", \"duration\", \"title_year\"]\n",
    "\n",
    "for column in columns_to_replace:\n",
    "    if column in skip_columns:\n",
    "        continue\n",
    "    df[column] = df[column].fillna('unknown')"
   ]
  },
  {
   "cell_type": "markdown",
   "id": "518a8a6f",
   "metadata": {},
   "source": [
    "Убедимся, что всё отработало успешно."
   ]
  },
  {
   "cell_type": "code",
   "execution_count": 73,
   "id": "7f6ea75c",
   "metadata": {},
   "outputs": [
    {
     "data": {
      "text/plain": [
       "color                          0\n",
       "director_name                  0\n",
       "num_critic_for_reviews         0\n",
       "duration                      84\n",
       "director_facebook_likes        0\n",
       "actor_3_facebook_likes         0\n",
       "actor_2_name                   0\n",
       "actor_1_facebook_likes         0\n",
       "gross                        939\n",
       "genres                         0\n",
       "actor_1_name                   0\n",
       "movie_title                    0\n",
       "num_voted_users                0\n",
       "cast_total_facebook_likes      0\n",
       "actor_3_name                   0\n",
       "facenumber_in_poster           0\n",
       "plot_keywords                  0\n",
       "movie_imdb_link                0\n",
       "num_user_for_reviews           0\n",
       "language                       0\n",
       "country                        0\n",
       "content_rating                 0\n",
       "budget                       549\n",
       "title_year                   174\n",
       "actor_2_facebook_likes         0\n",
       "imdb_score                    69\n",
       "aspect_ratio                   0\n",
       "movie_facebook_likes           0\n",
       "dtype: int64"
      ]
     },
     "execution_count": 73,
     "metadata": {},
     "output_type": "execute_result"
    }
   ],
   "source": [
    "df.isna().sum()"
   ]
  },
  {
   "cell_type": "markdown",
   "id": "fe61daa7",
   "metadata": {},
   "source": [
    "Длительность, бюджет и доход зависят от множества факторов, поэтому заполнять пропущенные значения какой-либо мерой центральной тенденции нельзя, так как это может существенно исказить результаты исследования. В этих столбцах пропуски лучше не учитывать.\n",
    "При этом, рейтинг фильма сильно зависит от режиссёра, поэтому, недостающие значения в рейтинге можно заполнить средними с группировкой по режиссёру."
   ]
  },
  {
   "cell_type": "markdown",
   "id": "deb730d1",
   "metadata": {},
   "source": [
    "Проверим, есть ли в интересующих нас столбцах отрицательные значения."
   ]
  },
  {
   "cell_type": "code",
   "execution_count": 74,
   "id": "b5a20db9",
   "metadata": {},
   "outputs": [
    {
     "name": "stdout",
     "output_type": "stream",
     "text": [
      "0\n",
      "0\n",
      "0\n",
      "0\n"
     ]
    }
   ],
   "source": [
    "skip_columns.remove(\"imdb_score\")\n",
    "\n",
    "for column in skip_columns:\n",
    "    print(\n",
    "        (df[column] < 0).sum()\n",
    "    )\n"
   ]
  },
  {
   "cell_type": "markdown",
   "id": "9f67be2a",
   "metadata": {},
   "source": [
    "Отрицательных значений нет! Значит, можем заполнить пропуски значениями -1, чтобы отличать их от реальных данных."
   ]
  },
  {
   "cell_type": "code",
   "execution_count": 75,
   "id": "ac1daab4",
   "metadata": {},
   "outputs": [],
   "source": [
    "for column in skip_columns:\n",
    "    df[column] = df[column].fillna(-1)\n",
    "    "
   ]
  },
  {
   "cell_type": "markdown",
   "id": "6b3af43d",
   "metadata": {},
   "source": [
    "Проверим, что всё прошло успешно."
   ]
  },
  {
   "cell_type": "code",
   "execution_count": 76,
   "id": "786e2ce3",
   "metadata": {},
   "outputs": [
    {
     "data": {
      "text/plain": [
       "color                         0\n",
       "director_name                 0\n",
       "num_critic_for_reviews        0\n",
       "duration                      0\n",
       "director_facebook_likes       0\n",
       "actor_3_facebook_likes        0\n",
       "actor_2_name                  0\n",
       "actor_1_facebook_likes        0\n",
       "gross                         0\n",
       "genres                        0\n",
       "actor_1_name                  0\n",
       "movie_title                   0\n",
       "num_voted_users               0\n",
       "cast_total_facebook_likes     0\n",
       "actor_3_name                  0\n",
       "facenumber_in_poster          0\n",
       "plot_keywords                 0\n",
       "movie_imdb_link               0\n",
       "num_user_for_reviews          0\n",
       "language                      0\n",
       "country                       0\n",
       "content_rating                0\n",
       "budget                        0\n",
       "title_year                    0\n",
       "actor_2_facebook_likes        0\n",
       "imdb_score                   69\n",
       "aspect_ratio                  0\n",
       "movie_facebook_likes          0\n",
       "dtype: int64"
      ]
     },
     "execution_count": 76,
     "metadata": {},
     "output_type": "execute_result"
    }
   ],
   "source": [
    "df.isna().sum()"
   ]
  },
  {
   "cell_type": "markdown",
   "id": "67f1124c",
   "metadata": {},
   "source": [
    "Теперь заполним рейтинг средними значениями, сгруппировав по режиссёру."
   ]
  },
  {
   "cell_type": "code",
   "execution_count": 77,
   "metadata": {},
   "outputs": [
    {
     "data": {
      "text/html": [
       "<div>\n",
       "<style scoped>\n",
       "    .dataframe tbody tr th:only-of-type {\n",
       "        vertical-align: middle;\n",
       "    }\n",
       "\n",
       "    .dataframe tbody tr th {\n",
       "        vertical-align: top;\n",
       "    }\n",
       "\n",
       "    .dataframe thead th {\n",
       "        text-align: right;\n",
       "    }\n",
       "</style>\n",
       "<table border=\"1\" class=\"dataframe\">\n",
       "  <thead>\n",
       "    <tr style=\"text-align: right;\">\n",
       "      <th></th>\n",
       "      <th>color</th>\n",
       "      <th>director_name</th>\n",
       "      <th>num_critic_for_reviews</th>\n",
       "      <th>duration</th>\n",
       "      <th>director_facebook_likes</th>\n",
       "      <th>actor_3_facebook_likes</th>\n",
       "      <th>actor_2_name</th>\n",
       "      <th>actor_1_facebook_likes</th>\n",
       "      <th>gross</th>\n",
       "      <th>genres</th>\n",
       "      <th>...</th>\n",
       "      <th>num_user_for_reviews</th>\n",
       "      <th>language</th>\n",
       "      <th>country</th>\n",
       "      <th>content_rating</th>\n",
       "      <th>budget</th>\n",
       "      <th>title_year</th>\n",
       "      <th>actor_2_facebook_likes</th>\n",
       "      <th>imdb_score</th>\n",
       "      <th>aspect_ratio</th>\n",
       "      <th>movie_facebook_likes</th>\n",
       "    </tr>\n",
       "  </thead>\n",
       "  <tbody>\n",
       "    <tr>\n",
       "      <th>0</th>\n",
       "      <td>Color</td>\n",
       "      <td>James Cameron</td>\n",
       "      <td>723.0</td>\n",
       "      <td>178.0</td>\n",
       "      <td>0.0</td>\n",
       "      <td>855.0</td>\n",
       "      <td>Joel David Moore</td>\n",
       "      <td>1000.0</td>\n",
       "      <td>760505847.0</td>\n",
       "      <td>Action|Adventure|Fantasy|Sci-Fi</td>\n",
       "      <td>...</td>\n",
       "      <td>3054.0</td>\n",
       "      <td>English</td>\n",
       "      <td>USA</td>\n",
       "      <td>PG-13</td>\n",
       "      <td>237000000.0</td>\n",
       "      <td>2009.0</td>\n",
       "      <td>936.0</td>\n",
       "      <td>7.9</td>\n",
       "      <td>1.78</td>\n",
       "      <td>33000;</td>\n",
       "    </tr>\n",
       "    <tr>\n",
       "      <th>1</th>\n",
       "      <td>Colour</td>\n",
       "      <td>Gore Verbinski</td>\n",
       "      <td>302.0</td>\n",
       "      <td>169.0</td>\n",
       "      <td>563.0</td>\n",
       "      <td>1000.0</td>\n",
       "      <td>Orlando Bloom</td>\n",
       "      <td>40000.0</td>\n",
       "      <td>309404152.0</td>\n",
       "      <td>Action|Adventure|Fantasy</td>\n",
       "      <td>...</td>\n",
       "      <td>1238.0</td>\n",
       "      <td>English</td>\n",
       "      <td>USA</td>\n",
       "      <td>PG-13</td>\n",
       "      <td>300000000.0</td>\n",
       "      <td>2007.0</td>\n",
       "      <td>5000.0</td>\n",
       "      <td>7.1</td>\n",
       "      <td>2.35</td>\n",
       "      <td>0;</td>\n",
       "    </tr>\n",
       "    <tr>\n",
       "      <th>2</th>\n",
       "      <td>Colour</td>\n",
       "      <td>Sam Mendes</td>\n",
       "      <td>602.0</td>\n",
       "      <td>148.0</td>\n",
       "      <td>0.0</td>\n",
       "      <td>161.0</td>\n",
       "      <td>Rory Kinnear</td>\n",
       "      <td>11000.0</td>\n",
       "      <td>200074175.0</td>\n",
       "      <td>Action|Adventure|Thriller</td>\n",
       "      <td>...</td>\n",
       "      <td>994.0</td>\n",
       "      <td>English</td>\n",
       "      <td>UK</td>\n",
       "      <td>PG-13</td>\n",
       "      <td>245000000.0</td>\n",
       "      <td>2015.0</td>\n",
       "      <td>393.0</td>\n",
       "      <td>6.8</td>\n",
       "      <td>2.35</td>\n",
       "      <td>85000;</td>\n",
       "    </tr>\n",
       "    <tr>\n",
       "      <th>3</th>\n",
       "      <td>Color</td>\n",
       "      <td>Christopher Nolan</td>\n",
       "      <td>813.0</td>\n",
       "      <td>164.0</td>\n",
       "      <td>22000.0</td>\n",
       "      <td>23000.0</td>\n",
       "      <td>Christian Bale</td>\n",
       "      <td>27000.0</td>\n",
       "      <td>448130642.0</td>\n",
       "      <td>Action|Thriller</td>\n",
       "      <td>...</td>\n",
       "      <td>2701.0</td>\n",
       "      <td>English</td>\n",
       "      <td>USA</td>\n",
       "      <td>PG-13</td>\n",
       "      <td>250000000.0</td>\n",
       "      <td>2012.0</td>\n",
       "      <td>23000.0</td>\n",
       "      <td>8.5</td>\n",
       "      <td>2.35</td>\n",
       "      <td>164000;</td>\n",
       "    </tr>\n",
       "    <tr>\n",
       "      <th>4</th>\n",
       "      <td>unknown</td>\n",
       "      <td>Doug Walker</td>\n",
       "      <td>unknown</td>\n",
       "      <td>-1.0</td>\n",
       "      <td>131.0</td>\n",
       "      <td>unknown</td>\n",
       "      <td>Rob Walker</td>\n",
       "      <td>131.0</td>\n",
       "      <td>-1.0</td>\n",
       "      <td>Documentary</td>\n",
       "      <td>...</td>\n",
       "      <td>unknown</td>\n",
       "      <td>unknown</td>\n",
       "      <td>unknown</td>\n",
       "      <td>unknown</td>\n",
       "      <td>-1.0</td>\n",
       "      <td>-1.0</td>\n",
       "      <td>12.0</td>\n",
       "      <td>7.1</td>\n",
       "      <td>unknown</td>\n",
       "      <td>0;</td>\n",
       "    </tr>\n",
       "    <tr>\n",
       "      <th>...</th>\n",
       "      <td>...</td>\n",
       "      <td>...</td>\n",
       "      <td>...</td>\n",
       "      <td>...</td>\n",
       "      <td>...</td>\n",
       "      <td>...</td>\n",
       "      <td>...</td>\n",
       "      <td>...</td>\n",
       "      <td>...</td>\n",
       "      <td>...</td>\n",
       "      <td>...</td>\n",
       "      <td>...</td>\n",
       "      <td>...</td>\n",
       "      <td>...</td>\n",
       "      <td>...</td>\n",
       "      <td>...</td>\n",
       "      <td>...</td>\n",
       "      <td>...</td>\n",
       "      <td>...</td>\n",
       "      <td>...</td>\n",
       "      <td>...</td>\n",
       "    </tr>\n",
       "    <tr>\n",
       "      <th>5038</th>\n",
       "      <td>Color</td>\n",
       "      <td>Scott Smith</td>\n",
       "      <td>1.0</td>\n",
       "      <td>87.0</td>\n",
       "      <td>2.0</td>\n",
       "      <td>318.0</td>\n",
       "      <td>Daphne Zuniga</td>\n",
       "      <td>637.0</td>\n",
       "      <td>-1.0</td>\n",
       "      <td>Comedy|Drama</td>\n",
       "      <td>...</td>\n",
       "      <td>6.0</td>\n",
       "      <td>English</td>\n",
       "      <td>Canada</td>\n",
       "      <td>unknown</td>\n",
       "      <td>-1.0</td>\n",
       "      <td>2013.0</td>\n",
       "      <td>470.0</td>\n",
       "      <td>7.7</td>\n",
       "      <td>unknown</td>\n",
       "      <td>84;</td>\n",
       "    </tr>\n",
       "    <tr>\n",
       "      <th>5039</th>\n",
       "      <td>Color</td>\n",
       "      <td>unknown</td>\n",
       "      <td>43.0</td>\n",
       "      <td>43.0</td>\n",
       "      <td>unknown</td>\n",
       "      <td>319.0</td>\n",
       "      <td>Valorie Curry</td>\n",
       "      <td>841.0</td>\n",
       "      <td>-1.0</td>\n",
       "      <td>Crime|Drama|Mystery|Thriller</td>\n",
       "      <td>...</td>\n",
       "      <td>359.0</td>\n",
       "      <td>English</td>\n",
       "      <td>USA</td>\n",
       "      <td>TV-14</td>\n",
       "      <td>-1.0</td>\n",
       "      <td>-1.0</td>\n",
       "      <td>593.0</td>\n",
       "      <td>7.5</td>\n",
       "      <td>16.0</td>\n",
       "      <td>32000;</td>\n",
       "    </tr>\n",
       "    <tr>\n",
       "      <th>5040</th>\n",
       "      <td>Color</td>\n",
       "      <td>Benjamin Roberds</td>\n",
       "      <td>13.0</td>\n",
       "      <td>76.0</td>\n",
       "      <td>0.0</td>\n",
       "      <td>0.0</td>\n",
       "      <td>Maxwell Moody</td>\n",
       "      <td>0.0</td>\n",
       "      <td>-1.0</td>\n",
       "      <td>Drama|Horror|Thriller</td>\n",
       "      <td>...</td>\n",
       "      <td>3.0</td>\n",
       "      <td>English</td>\n",
       "      <td>USA</td>\n",
       "      <td>unknown</td>\n",
       "      <td>1400.0</td>\n",
       "      <td>2013.0</td>\n",
       "      <td>0.0</td>\n",
       "      <td>6.3</td>\n",
       "      <td>unknown</td>\n",
       "      <td>16;</td>\n",
       "    </tr>\n",
       "    <tr>\n",
       "      <th>5041</th>\n",
       "      <td>Color</td>\n",
       "      <td>Daniel Hsia</td>\n",
       "      <td>14.0</td>\n",
       "      <td>100.0</td>\n",
       "      <td>0.0</td>\n",
       "      <td>489.0</td>\n",
       "      <td>Daniel Henney</td>\n",
       "      <td>946.0</td>\n",
       "      <td>10443.0</td>\n",
       "      <td>Comedy|Drama|Romance</td>\n",
       "      <td>...</td>\n",
       "      <td>9.0</td>\n",
       "      <td>English</td>\n",
       "      <td>USA</td>\n",
       "      <td>PG-13</td>\n",
       "      <td>-1.0</td>\n",
       "      <td>2012.0</td>\n",
       "      <td>719.0</td>\n",
       "      <td>6.3</td>\n",
       "      <td>2.35</td>\n",
       "      <td>660;</td>\n",
       "    </tr>\n",
       "    <tr>\n",
       "      <th>5042</th>\n",
       "      <td>Color</td>\n",
       "      <td>Jon Gunn</td>\n",
       "      <td>43.0</td>\n",
       "      <td>90.0</td>\n",
       "      <td>16.0</td>\n",
       "      <td>16.0</td>\n",
       "      <td>Brian Herzlinger</td>\n",
       "      <td>86.0</td>\n",
       "      <td>85222.0</td>\n",
       "      <td>Documentary</td>\n",
       "      <td>...</td>\n",
       "      <td>84.0</td>\n",
       "      <td>English</td>\n",
       "      <td>USA</td>\n",
       "      <td>PG</td>\n",
       "      <td>1100.0</td>\n",
       "      <td>2004.0</td>\n",
       "      <td>23.0</td>\n",
       "      <td>6.6</td>\n",
       "      <td>1.85</td>\n",
       "      <td>456;</td>\n",
       "    </tr>\n",
       "  </tbody>\n",
       "</table>\n",
       "<p>5043 rows × 28 columns</p>\n",
       "</div>"
      ],
      "text/plain": [
       "        color      director_name num_critic_for_reviews  duration  \\\n",
       "0       Color      James Cameron                  723.0     178.0   \n",
       "1      Colour     Gore Verbinski                  302.0     169.0   \n",
       "2      Colour         Sam Mendes                  602.0     148.0   \n",
       "3       Color  Christopher Nolan                  813.0     164.0   \n",
       "4     unknown        Doug Walker                unknown      -1.0   \n",
       "...       ...                ...                    ...       ...   \n",
       "5038    Color        Scott Smith                    1.0      87.0   \n",
       "5039    Color            unknown                   43.0      43.0   \n",
       "5040    Color   Benjamin Roberds                   13.0      76.0   \n",
       "5041    Color        Daniel Hsia                   14.0     100.0   \n",
       "5042    Color           Jon Gunn                   43.0      90.0   \n",
       "\n",
       "     director_facebook_likes actor_3_facebook_likes      actor_2_name  \\\n",
       "0                        0.0                  855.0  Joel David Moore   \n",
       "1                      563.0                 1000.0     Orlando Bloom   \n",
       "2                        0.0                  161.0      Rory Kinnear   \n",
       "3                    22000.0                23000.0    Christian Bale   \n",
       "4                      131.0                unknown        Rob Walker   \n",
       "...                      ...                    ...               ...   \n",
       "5038                     2.0                  318.0     Daphne Zuniga   \n",
       "5039                 unknown                  319.0     Valorie Curry   \n",
       "5040                     0.0                    0.0     Maxwell Moody   \n",
       "5041                     0.0                  489.0     Daniel Henney   \n",
       "5042                    16.0                   16.0  Brian Herzlinger   \n",
       "\n",
       "     actor_1_facebook_likes        gross                           genres  \\\n",
       "0                    1000.0  760505847.0  Action|Adventure|Fantasy|Sci-Fi   \n",
       "1                   40000.0  309404152.0         Action|Adventure|Fantasy   \n",
       "2                   11000.0  200074175.0        Action|Adventure|Thriller   \n",
       "3                   27000.0  448130642.0                  Action|Thriller   \n",
       "4                     131.0         -1.0                      Documentary   \n",
       "...                     ...          ...                              ...   \n",
       "5038                  637.0         -1.0                     Comedy|Drama   \n",
       "5039                  841.0         -1.0     Crime|Drama|Mystery|Thriller   \n",
       "5040                    0.0         -1.0            Drama|Horror|Thriller   \n",
       "5041                  946.0      10443.0             Comedy|Drama|Romance   \n",
       "5042                   86.0      85222.0                      Documentary   \n",
       "\n",
       "      ... num_user_for_reviews language  country content_rating       budget  \\\n",
       "0     ...               3054.0  English      USA          PG-13  237000000.0   \n",
       "1     ...               1238.0  English      USA          PG-13  300000000.0   \n",
       "2     ...                994.0  English       UK          PG-13  245000000.0   \n",
       "3     ...               2701.0  English      USA          PG-13  250000000.0   \n",
       "4     ...              unknown  unknown  unknown        unknown         -1.0   \n",
       "...   ...                  ...      ...      ...            ...          ...   \n",
       "5038  ...                  6.0  English   Canada        unknown         -1.0   \n",
       "5039  ...                359.0  English      USA          TV-14         -1.0   \n",
       "5040  ...                  3.0  English      USA        unknown       1400.0   \n",
       "5041  ...                  9.0  English      USA          PG-13         -1.0   \n",
       "5042  ...                 84.0  English      USA             PG       1100.0   \n",
       "\n",
       "     title_year actor_2_facebook_likes imdb_score aspect_ratio  \\\n",
       "0        2009.0                  936.0        7.9         1.78   \n",
       "1        2007.0                 5000.0        7.1         2.35   \n",
       "2        2015.0                  393.0        6.8         2.35   \n",
       "3        2012.0                23000.0        8.5         2.35   \n",
       "4          -1.0                   12.0        7.1      unknown   \n",
       "...         ...                    ...        ...          ...   \n",
       "5038     2013.0                  470.0        7.7      unknown   \n",
       "5039       -1.0                  593.0        7.5         16.0   \n",
       "5040     2013.0                    0.0        6.3      unknown   \n",
       "5041     2012.0                  719.0        6.3         2.35   \n",
       "5042     2004.0                   23.0        6.6         1.85   \n",
       "\n",
       "     movie_facebook_likes  \n",
       "0                  33000;  \n",
       "1                      0;  \n",
       "2                  85000;  \n",
       "3                 164000;  \n",
       "4                      0;  \n",
       "...                   ...  \n",
       "5038                  84;  \n",
       "5039               32000;  \n",
       "5040                  16;  \n",
       "5041                 660;  \n",
       "5042                 456;  \n",
       "\n",
       "[5043 rows x 28 columns]"
      ]
     },
     "execution_count": 77,
     "metadata": {},
     "output_type": "execute_result"
    }
   ],
   "source": [
    "group_director_imdb = df.groupby(\"director_name\")[\"imdb_score\"].transform(\"mean\")\n",
    "df[\"imdb_score\"] = df[\"imdb_score\"].fillna(group_director_imdb)\n",
    "df"
   ]
  },
  {
   "cell_type": "markdown",
   "id": "3c2ce315",
   "metadata": {},
   "source": [
    "Убедимся, что пропуски заполнены."
   ]
  },
  {
   "cell_type": "code",
   "execution_count": 78,
   "id": "5f019964",
   "metadata": {},
   "outputs": [
    {
     "data": {
      "text/plain": [
       "color                        0\n",
       "director_name                0\n",
       "num_critic_for_reviews       0\n",
       "duration                     0\n",
       "director_facebook_likes      0\n",
       "actor_3_facebook_likes       0\n",
       "actor_2_name                 0\n",
       "actor_1_facebook_likes       0\n",
       "gross                        0\n",
       "genres                       0\n",
       "actor_1_name                 0\n",
       "movie_title                  0\n",
       "num_voted_users              0\n",
       "cast_total_facebook_likes    0\n",
       "actor_3_name                 0\n",
       "facenumber_in_poster         0\n",
       "plot_keywords                0\n",
       "movie_imdb_link              0\n",
       "num_user_for_reviews         0\n",
       "language                     0\n",
       "country                      0\n",
       "content_rating               0\n",
       "budget                       0\n",
       "title_year                   0\n",
       "actor_2_facebook_likes       0\n",
       "imdb_score                   0\n",
       "aspect_ratio                 0\n",
       "movie_facebook_likes         0\n",
       "dtype: int64"
      ]
     },
     "execution_count": 78,
     "metadata": {},
     "output_type": "execute_result"
    }
   ],
   "source": [
    "df.isna().sum()"
   ]
  },
  {
   "cell_type": "markdown",
   "id": "912440e6",
   "metadata": {},
   "source": [
    "Проверим количество дубликатов и удалим их"
   ]
  },
  {
   "cell_type": "code",
   "execution_count": 79,
   "id": "149f6e44",
   "metadata": {},
   "outputs": [
    {
     "data": {
      "text/plain": [
       "45"
      ]
     },
     "execution_count": 79,
     "metadata": {},
     "output_type": "execute_result"
    }
   ],
   "source": [
    "df.duplicated().sum()"
   ]
  },
  {
   "cell_type": "code",
   "execution_count": 80,
   "id": "6f9d89ee",
   "metadata": {},
   "outputs": [],
   "source": [
    "df = df.drop_duplicates().reset_index(drop=True)"
   ]
  },
  {
   "cell_type": "code",
   "execution_count": 81,
   "id": "89d07d7a",
   "metadata": {},
   "outputs": [
    {
     "data": {
      "text/plain": [
       "0"
      ]
     },
     "execution_count": 81,
     "metadata": {},
     "output_type": "execute_result"
    }
   ],
   "source": [
    "df.duplicated().sum()"
   ]
  },
  {
   "cell_type": "markdown",
   "id": "f5b1c8f3",
   "metadata": {},
   "source": [
    "Убедимся, что неявных дубликатов в столбцах, необходимых для исследования, нет."
   ]
  },
  {
   "cell_type": "code",
   "execution_count": 82,
   "id": "44722cf9",
   "metadata": {},
   "outputs": [
    {
     "data": {
      "text/plain": [
       "['Afghanistan',\n",
       " 'Argentina',\n",
       " 'Aruba',\n",
       " 'Australia',\n",
       " 'Bahamas',\n",
       " 'Belgium',\n",
       " 'Brazil',\n",
       " 'Bulgaria',\n",
       " 'Cambodia',\n",
       " 'Cameroon',\n",
       " 'Canada',\n",
       " 'Chile',\n",
       " 'China',\n",
       " 'Colombia',\n",
       " 'Czech Republic',\n",
       " 'Denmark',\n",
       " 'Dominican Republic',\n",
       " 'Egypt',\n",
       " 'Finland',\n",
       " 'France',\n",
       " 'Georgia',\n",
       " 'Germany',\n",
       " 'Greece',\n",
       " 'Hong Kong',\n",
       " 'Hungary',\n",
       " 'Iceland',\n",
       " 'India',\n",
       " 'Indonesia',\n",
       " 'Iran',\n",
       " 'Ireland',\n",
       " 'Israel',\n",
       " 'Italy',\n",
       " 'Japan',\n",
       " 'Kenya',\n",
       " 'Kyrgyzstan',\n",
       " 'Libya',\n",
       " 'Mexico',\n",
       " 'Netherlands',\n",
       " 'New Line',\n",
       " 'New Zealand',\n",
       " 'Nigeria',\n",
       " 'Norway',\n",
       " 'Official site',\n",
       " 'Pakistan',\n",
       " 'Panama',\n",
       " 'Peru',\n",
       " 'Philippines',\n",
       " 'Poland',\n",
       " 'Romania',\n",
       " 'Russia',\n",
       " 'Slovakia',\n",
       " 'Slovenia',\n",
       " 'South Africa',\n",
       " 'South Korea',\n",
       " 'Soviet Union',\n",
       " 'Spain',\n",
       " 'Sweden',\n",
       " 'Switzerland',\n",
       " 'Taiwan',\n",
       " 'Thailand',\n",
       " 'Turkey',\n",
       " 'UK',\n",
       " 'USA',\n",
       " 'United Arab Emirates',\n",
       " 'West Germany',\n",
       " 'unknown']"
      ]
     },
     "execution_count": 82,
     "metadata": {},
     "output_type": "execute_result"
    }
   ],
   "source": [
    "sorted(df[\"country\"].unique())"
   ]
  },
  {
   "cell_type": "code",
   "execution_count": 83,
   "id": "221094c5",
   "metadata": {},
   "outputs": [
    {
     "data": {
      "text/plain": [
       "['Aboriginal',\n",
       " 'Arabic',\n",
       " 'Aramaic',\n",
       " 'Bosnian',\n",
       " 'Cantonese',\n",
       " 'Chinese',\n",
       " 'Czech',\n",
       " 'Danish',\n",
       " 'Dari',\n",
       " 'Dutch',\n",
       " 'Dzongkha',\n",
       " 'English',\n",
       " 'Filipino',\n",
       " 'French',\n",
       " 'German',\n",
       " 'Greek',\n",
       " 'Hebrew',\n",
       " 'Hindi',\n",
       " 'Hungarian',\n",
       " 'Icelandic',\n",
       " 'Indonesian',\n",
       " 'Italian',\n",
       " 'Japanese',\n",
       " 'Kannada',\n",
       " 'Kazakh',\n",
       " 'Korean',\n",
       " 'Mandarin',\n",
       " 'Maya',\n",
       " 'Mongolian',\n",
       " 'Norwegian',\n",
       " 'Panjabi',\n",
       " 'Persian',\n",
       " 'Polish',\n",
       " 'Portuguese',\n",
       " 'Romanian',\n",
       " 'Russian',\n",
       " 'Slovenian',\n",
       " 'Spanish',\n",
       " 'Swahili',\n",
       " 'Swedish',\n",
       " 'Tamil',\n",
       " 'Telugu',\n",
       " 'Thai',\n",
       " 'Urdu',\n",
       " 'Vietnamese',\n",
       " 'Zulu',\n",
       " 'unknown']"
      ]
     },
     "execution_count": 83,
     "metadata": {},
     "output_type": "execute_result"
    }
   ],
   "source": [
    "\n",
    "sorted(df[\"language\"].unique())"
   ]
  },
  {
   "cell_type": "markdown",
   "id": "32d42a61",
   "metadata": {},
   "source": [
    "Теперь необходимо перевести значения в gross и budget в реальные доллары."
   ]
  },
  {
   "cell_type": "markdown",
   "id": "3b15361c",
   "metadata": {},
   "source": [
    "Спарсим данные о CPI за каждый год с 1913 по 2016 и соберём таблицу."
   ]
  },
  {
   "cell_type": "code",
   "execution_count": 84,
   "id": "d8452c90",
   "metadata": {},
   "outputs": [],
   "source": [
    "from bs4 import BeautifulSoup\n",
    "import requests\n",
    "\n",
    "url = \"https://www.usinflationcalculator.com/inflation/consumer-price-index-and-annual-percent-changes-from-1913-to-2008/\"\n",
    "\n",
    "r = requests.get(url)\n",
    "data = r.text\n",
    "soup = BeautifulSoup(data, \"html.parser\")\n",
    "\n",
    "table = soup.findAll(\"table\")\n",
    "rows = table[0].findAll(\"tr\")\n",
    "\n",
    "years, cpis = [], []\n",
    "\n",
    "for row in rows:\n",
    "    year = row.find_all(\"td\")[0].get_text()\n",
    "    if year.isdigit() and int(year) < 2017:\n",
    "        years.append(int(year))\n",
    "        cpis.append(float(row.find_all(\"td\")[13].get_text()))\n",
    "\n",
    "cpi_table = pd.DataFrame({\n",
    "    \"year\": years,\n",
    "    \"avg_annual_cpi\": cpis\n",
    "})\n",
    "cpi_table.to_csv(r\"..\\data\\Lab1\\Lab1_Khalimov_CPI.csv\")"
   ]
  },
  {
   "cell_type": "markdown",
   "id": "11075551",
   "metadata": {},
   "source": [
    "Определим функцию перевода в реальные доллары и установим константу CPI за 2016 год."
   ]
  },
  {
   "cell_type": "code",
   "execution_count": 85,
   "id": "c66bfbbb",
   "metadata": {},
   "outputs": [
    {
     "name": "stdout",
     "output_type": "stream",
     "text": [
      "240.007\n"
     ]
    }
   ],
   "source": [
    "def get_real_value(nominal_amt, old_cpi, new_cpi):\n",
    "    real_value = nominal_amt * new_cpi / old_cpi\n",
    "    return real_value\n",
    "\n",
    "cpi_2016 = cpi_table[cpi_table[\"year\"] == 2016][\"avg_annual_cpi\"].values[0]\n",
    "print(cpi_2016)"
   ]
  },
  {
   "cell_type": "markdown",
   "id": "5ac8b3a1",
   "metadata": {},
   "source": [
    "Преобразуем значения дохода и бюджета в реальные доллары"
   ]
  },
  {
   "cell_type": "code",
   "execution_count": 86,
   "id": "62b15b3f",
   "metadata": {},
   "outputs": [
    {
     "name": "stdout",
     "output_type": "stream",
     "text": [
      "<class 'pandas.core.frame.DataFrame'>\n",
      "RangeIndex: 104 entries, 0 to 103\n",
      "Data columns (total 2 columns):\n",
      " #   Column          Non-Null Count  Dtype  \n",
      "---  ------          --------------  -----  \n",
      " 0   year            104 non-null    int64  \n",
      " 1   avg_annual_cpi  104 non-null    float64\n",
      "dtypes: float64(1), int64(1)\n",
      "memory usage: 1.8 KB\n"
     ]
    }
   ],
   "source": [
    "cpi_table.info()"
   ]
  },
  {
   "cell_type": "code",
   "execution_count": 87,
   "id": "a85b0b07",
   "metadata": {},
   "outputs": [],
   "source": [
    "real_domestic_gross = []\n",
    "real_budget_values = []\n",
    "\n",
    "for index, row in df.iterrows():\n",
    "    gross = row[\"gross\"]\n",
    "    budget = row[\"budget\"]\n",
    "    year = int(row[\"title_year\"])\n",
    "\n",
    "    cpi_series = cpi_table[cpi_table[\"year\"] == year][\"avg_annual_cpi\"].values\n",
    "    # Сразу по индексу не хочет давать значение, поэтому через values.\n",
    "    # Так как не везде указан год, то некоторые списки получатся пустыми, их надо игнорировать.\n",
    "    if len(cpi_series) > 0:\n",
    "        cpi = cpi_series[0]\n",
    "        real_gross = round(get_real_value(gross, cpi, cpi_2016))\n",
    "        real_budget = round(get_real_value(budget, cpi, cpi_2016))\n",
    "        real_domestic_gross.append(real_gross)\n",
    "        real_budget_values.append(real_budget)\n",
    "    else:\n",
    "        # Если список оказался пустым, значит в датафрейме не был указан год, поэтому пишем -1(выброс) в значения реального бюджета и дохода\n",
    "        real_domestic_gross.append(-1.0)\n",
    "        real_budget_values.append(-1.0)\n",
    "\n",
    "df[\"real_domestic_gross\"] = real_domestic_gross\n",
    "df[\"real_budget\"] = real_budget_values\n",
    "\n",
    "df.to_csv(r\"..\\data\\Lab1\\Lab1_Khalimov_FIT-221.csv\")\n"
   ]
  },
  {
   "cell_type": "markdown",
   "id": "126bc3b8",
   "metadata": {},
   "source": [
    "Приступим к проверке гипотез\n",
    "\n",
    "1. Чем больше рейтинг imdb, тем больше доход.\n",
    "<br>\n",
    "2. Большая часть фильмов на английском была снята в США.\n",
    "<br>\n",
    "3. Чем больше длительность, тем больший бюджет потребовался."
   ]
  },
  {
   "cell_type": "markdown",
   "id": "6b48c5bb",
   "metadata": {},
   "source": [
    "Гипотеза 1."
   ]
  },
  {
   "cell_type": "code",
   "execution_count": 88,
   "id": "e78e9c25",
   "metadata": {},
   "outputs": [
    {
     "data": {
      "text/plain": [
       "0.2125742915776185"
      ]
     },
     "execution_count": 88,
     "metadata": {},
     "output_type": "execute_result"
    }
   ],
   "source": [
    "\n",
    "df_for_h1 = df.loc[df[\"real_domestic_gross\"] >= 0]\n",
    "\n",
    "df_for_h1[\"imdb_score\"].corr(df_for_h1[\"real_domestic_gross\"])"
   ]
  },
  {
   "cell_type": "markdown",
   "id": "7bff6f11",
   "metadata": {},
   "source": [
    "Между доходом и рейтингом наблюдается совсем незначительная корреляция, утверждать о существенной взаимосвязи нельзя."
   ]
  },
  {
   "cell_type": "markdown",
   "id": "b6513df1",
   "metadata": {},
   "source": [
    "Гипотеза 2."
   ]
  },
  {
   "cell_type": "code",
   "execution_count": 89,
   "id": "a992718c",
   "metadata": {},
   "outputs": [
    {
     "data": {
      "text/plain": [
       "country\n",
       "Aruba                1\n",
       "Australia           51\n",
       "Bahamas              1\n",
       "Belgium              4\n",
       "Brazil               1\n",
       "Bulgaria             1\n",
       "Cambodia             1\n",
       "Cameroon             1\n",
       "Canada             112\n",
       "Chile                1\n",
       "China                5\n",
       "Czech Republic       2\n",
       "Denmark              6\n",
       "France              86\n",
       "Georgia              1\n",
       "Germany             79\n",
       "Greece               1\n",
       "Hong Kong            5\n",
       "Hungary              1\n",
       "Iceland              1\n",
       "India                5\n",
       "Iran                 1\n",
       "Ireland             12\n",
       "Italy               12\n",
       "Japan                6\n",
       "Kyrgyzstan           1\n",
       "Libya                1\n",
       "Mexico               3\n",
       "Netherlands          1\n",
       "New Line             1\n",
       "New Zealand         15\n",
       "Nigeria              1\n",
       "Norway               4\n",
       "Official site        1\n",
       "Panama               1\n",
       "Peru                 1\n",
       "Philippines          1\n",
       "Poland               1\n",
       "Romania              2\n",
       "Russia               1\n",
       "Slovakia             1\n",
       "South Africa         7\n",
       "South Korea          6\n",
       "Spain               20\n",
       "Switzerland          2\n",
       "Thailand             2\n",
       "UK                 431\n",
       "USA               3701\n",
       "West Germany         1\n",
       "unknown              2\n",
       "Name: language, dtype: int64"
      ]
     },
     "execution_count": 89,
     "metadata": {},
     "output_type": "execute_result"
    }
   ],
   "source": [
    "df_for_h2 = df.loc[df[\"language\"] == \"English\"]\n",
    "df_for_h2.groupby(\"country\")[\"language\"].count()\n"
   ]
  },
  {
   "cell_type": "markdown",
   "id": "b2c8c1c4",
   "metadata": {},
   "source": [
    "3701 фильм на английском языке был снят в США, гипотеза подтвердилась!"
   ]
  },
  {
   "cell_type": "markdown",
   "id": "f5031e9a",
   "metadata": {},
   "source": [
    "Гипотеза 3."
   ]
  },
  {
   "cell_type": "code",
   "execution_count": 90,
   "id": "1db3bd3d",
   "metadata": {},
   "outputs": [
    {
     "data": {
      "text/plain": [
       "0.0878313222551681"
      ]
     },
     "execution_count": 90,
     "metadata": {},
     "output_type": "execute_result"
    }
   ],
   "source": [
    "# пропуски в duration заменяли на -1 \n",
    "df_for_h3 = df.loc[df[\"duration\"] >= 0]\n",
    "df_for_h3 = df_for_h3.loc[df[\"real_budget\"] >= 0]\n",
    "df_for_h3[\"duration\"].corr(df[\"real_budget\"])"
   ]
  },
  {
   "cell_type": "markdown",
   "id": "39455a1b",
   "metadata": {},
   "source": [
    "Можем утверждать, что длительность фильма и его бюджет никак не связаны."
   ]
  }
 ],
 "metadata": {
  "kernelspec": {
   "display_name": "Python 3 (ipykernel)",
   "language": "python",
   "name": "python3"
  },
  "language_info": {
   "codemirror_mode": {
    "name": "ipython",
    "version": 3
   },
   "file_extension": ".py",
   "mimetype": "text/x-python",
   "name": "python",
   "nbconvert_exporter": "python",
   "pygments_lexer": "ipython3",
   "version": "3.11.4"
  }
 },
 "nbformat": 4,
 "nbformat_minor": 5
}
